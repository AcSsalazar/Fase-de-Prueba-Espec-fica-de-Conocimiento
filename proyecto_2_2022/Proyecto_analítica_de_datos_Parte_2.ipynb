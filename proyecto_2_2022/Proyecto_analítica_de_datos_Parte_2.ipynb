{
  "nbformat": 4,
  "nbformat_minor": 0,
  "metadata": {
    "colab": {
      "provenance": []
    },
    "kernelspec": {
      "name": "python3",
      "display_name": "Python 3"
    },
    "language_info": {
      "name": "python"
    },
    "accelerator": "GPU",
    "gpuClass": "standard"
  },
  "cells": [
    {
      "cell_type": "markdown",
      "source": [
        "# Clasificación de géneros musicales. Parte 2 ( Creacion y prueba del modelo ) \n",
        "\n",
        "Estudiante: Andrés Camilo Salazar Palacios\n",
        "\n",
        "Profesor: Diego Fabian Collazos Huertas\n",
        "\n",
        "Universidad Nacional de Colombia sede Manizales - Analítica de datos."
      ],
      "metadata": {
        "id": "izfWjsXz7OCz"
      }
    },
    {
      "cell_type": "code",
      "execution_count": 1,
      "metadata": {
        "id": "VplCvMJghOml"
      },
      "outputs": [],
      "source": [
        "import json\n",
        "import numpy as np\n",
        "from sklearn.model_selection import train_test_split\n",
        "import tensorflow.keras as keras\n",
        "\n",
        "import matplotlib.pyplot as plt\n",
        "import random\n",
        "\n",
        "import librosa\n",
        "import math"
      ]
    },
    {
      "cell_type": "code",
      "source": [
        "dataload = \"/content/drive/My Drive/PAD/data_10.json\""
      ],
      "metadata": {
        "id": "FBHIGM_Dhftg"
      },
      "execution_count": 2,
      "outputs": []
    },
    {
      "cell_type": "code",
      "source": [
        "# Funcion para cargar los datos del archivo json\n",
        "def load_data(dataload):\n",
        "\n",
        "    with open(dataload, \"r\") as f: #\n",
        "        data = json.load(f)\n",
        "\n",
        "    # convert lists to numpy arrays\n",
        "    X = np.array(data[\"mfcc\"])\n",
        "    y = np.array(data[\"labels\"])\n",
        "\n",
        "    print(\"Data succesfully loaded!\")\n",
        "\n",
        "    return  X, y\n",
        "\n",
        "X,y = load_data(dataload)\n",
        "X.shape\n"
      ],
      "metadata": {
        "colab": {
          "base_uri": "https://localhost:8080/"
        },
        "id": "htnAtdZXIS0s",
        "outputId": "c2239694-d13e-4d6d-c5ff-68bee2196aa8"
      },
      "execution_count": 3,
      "outputs": [
        {
          "output_type": "stream",
          "name": "stdout",
          "text": [
            "Data succesfully loaded!\n"
          ]
        },
        {
          "output_type": "execute_result",
          "data": {
            "text/plain": [
              "(9996, 130, 13)"
            ]
          },
          "metadata": {},
          "execution_count": 3
        }
      ]
    },
    {
      "cell_type": "code",
      "source": [
        "# Configuramos la division test y entrenamiento. con 30% de los datos para testeo. \n",
        "X_train, X_test, y_test, y_train = train_test_split(X,y, test_size=0.3)"
      ],
      "metadata": {
        "id": "p71dIMJdZYmr"
      },
      "execution_count": 4,
      "outputs": []
    },
    {
      "cell_type": "code",
      "source": [
        "# create train, validation and test split\n",
        "X_train, X_test, y_train, y_test = train_test_split(X, y, test_size=0.25)\n",
        "X_train, X_validation, y_train, y_validation = train_test_split(X_train, y_train, test_size=0.2)\n",
        "\n",
        "# add an axis to input sets\n",
        "X_train = X_train[..., np.newaxis]\n",
        "X_validation = X_validation[..., np.newaxis]\n",
        "X_test = X_test[..., np.newaxis]\n",
        "X_train.shape\n",
        "\n",
        "input_shape = (X_train.shape[1], X_train.shape[2], 1)\n",
        "\n",
        "# build the CNN\n",
        "model_cnn = keras.Sequential()\n",
        "\n",
        "# 1st conv layer\n",
        "model_cnn.add(keras.layers.Conv2D(32, (3, 3), activation='relu', input_shape=input_shape))\n",
        "model_cnn.add(keras.layers.MaxPooling2D((3, 3), strides=(2, 2), padding='same'))\n",
        "model_cnn.add(keras.layers.BatchNormalization())\n",
        "\n",
        "# 2nd conv layer\n",
        "model_cnn.add(keras.layers.Conv2D(32, (3, 3), activation='relu'))\n",
        "model_cnn.add(keras.layers.MaxPooling2D((3, 3), strides=(2, 2), padding='same'))\n",
        "model_cnn.add(keras.layers.BatchNormalization())\n",
        "\n",
        "# 3rd conv layer\n",
        "model_cnn.add(keras.layers.Conv2D(32, (2, 2), activation='relu'))\n",
        "model_cnn.add(keras.layers.MaxPooling2D((2, 2), strides=(2, 2), padding='same'))\n",
        "model_cnn.add(keras.layers.BatchNormalization())\n",
        "\n",
        "# flatten output and feed it into dense layer\n",
        "model_cnn.add(keras.layers.Flatten())\n",
        "model_cnn.add(keras.layers.Dense(64, activation='relu'))\n",
        "model_cnn.add(keras.layers.Dropout(0.3))\n",
        "\n",
        "# output layer\n",
        "model_cnn.add(keras.layers.Dense(10, activation='softmax'))"
      ],
      "metadata": {
        "id": "ZCbTmFvRbxGH"
      },
      "execution_count": 5,
      "outputs": []
    },
    {
      "cell_type": "code",
      "source": [
        "# compile model\n",
        "optimiser = keras.optimizers.Adam(learning_rate=0.0001)\n",
        "model_cnn.compile(optimizer=optimiser,\n",
        "              loss='sparse_categorical_crossentropy',\n",
        "             metrics=['accuracy'])\n"
      ],
      "metadata": {
        "id": "0QuwNuU7kAln"
      },
      "execution_count": 6,
      "outputs": []
    },
    {
      "cell_type": "code",
      "source": [
        "model_cnn.summary()"
      ],
      "metadata": {
        "colab": {
          "base_uri": "https://localhost:8080/"
        },
        "id": "aq6HuPIoocDm",
        "outputId": "23dbc350-b4e7-43c0-c221-1ab0e2516668"
      },
      "execution_count": 7,
      "outputs": [
        {
          "output_type": "stream",
          "name": "stdout",
          "text": [
            "Model: \"sequential\"\n",
            "_________________________________________________________________\n",
            " Layer (type)                Output Shape              Param #   \n",
            "=================================================================\n",
            " conv2d (Conv2D)             (None, 128, 11, 32)       320       \n",
            "                                                                 \n",
            " max_pooling2d (MaxPooling2D  (None, 64, 6, 32)        0         \n",
            " )                                                               \n",
            "                                                                 \n",
            " batch_normalization (BatchN  (None, 64, 6, 32)        128       \n",
            " ormalization)                                                   \n",
            "                                                                 \n",
            " conv2d_1 (Conv2D)           (None, 62, 4, 32)         9248      \n",
            "                                                                 \n",
            " max_pooling2d_1 (MaxPooling  (None, 31, 2, 32)        0         \n",
            " 2D)                                                             \n",
            "                                                                 \n",
            " batch_normalization_1 (Batc  (None, 31, 2, 32)        128       \n",
            " hNormalization)                                                 \n",
            "                                                                 \n",
            " conv2d_2 (Conv2D)           (None, 30, 1, 32)         4128      \n",
            "                                                                 \n",
            " max_pooling2d_2 (MaxPooling  (None, 15, 1, 32)        0         \n",
            " 2D)                                                             \n",
            "                                                                 \n",
            " batch_normalization_2 (Batc  (None, 15, 1, 32)        128       \n",
            " hNormalization)                                                 \n",
            "                                                                 \n",
            " flatten (Flatten)           (None, 480)               0         \n",
            "                                                                 \n",
            " dense (Dense)               (None, 64)                30784     \n",
            "                                                                 \n",
            " dropout (Dropout)           (None, 64)                0         \n",
            "                                                                 \n",
            " dense_1 (Dense)             (None, 10)                650       \n",
            "                                                                 \n",
            "=================================================================\n",
            "Total params: 45,514\n",
            "Trainable params: 45,322\n",
            "Non-trainable params: 192\n",
            "_________________________________________________________________\n"
          ]
        }
      ]
    },
    {
      "cell_type": "markdown",
      "source": [
        "El umero de muestras para el entrenamiento =30.\n",
        "El modelo se actualiza cada vez que se procesa un lote, lo que significa que se puede actualizar varias veces durante una época. \n",
        "Si batch_sizese establece igual a la longitud de x, el modelo se actualizará una vez por época.\n"
      ],
      "metadata": {
        "id": "yGtSpbGTNQFV"
      }
    },
    {
      "cell_type": "code",
      "source": [
        "X_train.shape"
      ],
      "metadata": {
        "colab": {
          "base_uri": "https://localhost:8080/"
        },
        "id": "cT0KfIcGQHxD",
        "outputId": "093b08f2-59fe-4bf6-aa62-9c946998db07"
      },
      "execution_count": 8,
      "outputs": [
        {
          "output_type": "execute_result",
          "data": {
            "text/plain": [
              "(5997, 130, 13, 1)"
            ]
          },
          "metadata": {},
          "execution_count": 8
        }
      ]
    },
    {
      "cell_type": "code",
      "source": [
        "# train model\n",
        "history = model_cnn.fit(X_train, y_train, validation_data=(X_validation, y_validation), batch_size=32, epochs=50)"
      ],
      "metadata": {
        "id": "IFzbrl54odgi",
        "colab": {
          "base_uri": "https://localhost:8080/"
        },
        "outputId": "b457c97c-e21f-477c-862e-d07d4e225c80"
      },
      "execution_count": 9,
      "outputs": [
        {
          "output_type": "stream",
          "name": "stdout",
          "text": [
            "Epoch 1/50\n",
            "188/188 [==============================] - 14s 71ms/step - loss: 2.4405 - accuracy: 0.2094 - val_loss: 1.7832 - val_accuracy: 0.3547\n",
            "Epoch 2/50\n",
            "188/188 [==============================] - 13s 72ms/step - loss: 1.8545 - accuracy: 0.3567 - val_loss: 1.4919 - val_accuracy: 0.4553\n",
            "Epoch 3/50\n",
            "188/188 [==============================] - 13s 72ms/step - loss: 1.6452 - accuracy: 0.4167 - val_loss: 1.3747 - val_accuracy: 0.5013\n",
            "Epoch 4/50\n",
            "188/188 [==============================] - 13s 71ms/step - loss: 1.5153 - accuracy: 0.4542 - val_loss: 1.2955 - val_accuracy: 0.5247\n",
            "Epoch 5/50\n",
            "188/188 [==============================] - 13s 71ms/step - loss: 1.4244 - accuracy: 0.4934 - val_loss: 1.2360 - val_accuracy: 0.5467\n",
            "Epoch 6/50\n",
            "188/188 [==============================] - 13s 71ms/step - loss: 1.3386 - accuracy: 0.5183 - val_loss: 1.1730 - val_accuracy: 0.5607\n",
            "Epoch 7/50\n",
            "188/188 [==============================] - 15s 82ms/step - loss: 1.2926 - accuracy: 0.5364 - val_loss: 1.1388 - val_accuracy: 0.5900\n",
            "Epoch 8/50\n",
            "188/188 [==============================] - 13s 71ms/step - loss: 1.2265 - accuracy: 0.5599 - val_loss: 1.1066 - val_accuracy: 0.6173\n",
            "Epoch 9/50\n",
            "188/188 [==============================] - 13s 71ms/step - loss: 1.1738 - accuracy: 0.5815 - val_loss: 1.0745 - val_accuracy: 0.6153\n",
            "Epoch 10/50\n",
            "188/188 [==============================] - 13s 70ms/step - loss: 1.1312 - accuracy: 0.5958 - val_loss: 1.0407 - val_accuracy: 0.6313\n",
            "Epoch 11/50\n",
            "188/188 [==============================] - 13s 71ms/step - loss: 1.0894 - accuracy: 0.6115 - val_loss: 1.0238 - val_accuracy: 0.6347\n",
            "Epoch 12/50\n",
            "188/188 [==============================] - 14s 72ms/step - loss: 1.0616 - accuracy: 0.6265 - val_loss: 1.0001 - val_accuracy: 0.6507\n",
            "Epoch 13/50\n",
            "188/188 [==============================] - 13s 71ms/step - loss: 1.0106 - accuracy: 0.6372 - val_loss: 0.9753 - val_accuracy: 0.6640\n",
            "Epoch 14/50\n",
            "188/188 [==============================] - 13s 72ms/step - loss: 0.9795 - accuracy: 0.6450 - val_loss: 0.9688 - val_accuracy: 0.6653\n",
            "Epoch 15/50\n",
            "188/188 [==============================] - 13s 72ms/step - loss: 0.9633 - accuracy: 0.6595 - val_loss: 0.9464 - val_accuracy: 0.6540\n",
            "Epoch 16/50\n",
            "188/188 [==============================] - 16s 83ms/step - loss: 0.9257 - accuracy: 0.6755 - val_loss: 0.9341 - val_accuracy: 0.6760\n",
            "Epoch 17/50\n",
            "188/188 [==============================] - 14s 72ms/step - loss: 0.9080 - accuracy: 0.6793 - val_loss: 0.9317 - val_accuracy: 0.6660\n",
            "Epoch 18/50\n",
            "188/188 [==============================] - 13s 71ms/step - loss: 0.8854 - accuracy: 0.6847 - val_loss: 0.8830 - val_accuracy: 0.6980\n",
            "Epoch 19/50\n",
            "188/188 [==============================] - 13s 71ms/step - loss: 0.8528 - accuracy: 0.6997 - val_loss: 0.8983 - val_accuracy: 0.6900\n",
            "Epoch 20/50\n",
            "188/188 [==============================] - 13s 71ms/step - loss: 0.8456 - accuracy: 0.7005 - val_loss: 0.8944 - val_accuracy: 0.6860\n",
            "Epoch 21/50\n",
            "188/188 [==============================] - 13s 71ms/step - loss: 0.8144 - accuracy: 0.7135 - val_loss: 0.8822 - val_accuracy: 0.7040\n",
            "Epoch 22/50\n",
            "188/188 [==============================] - 13s 71ms/step - loss: 0.7918 - accuracy: 0.7229 - val_loss: 0.8781 - val_accuracy: 0.6873\n",
            "Epoch 23/50\n",
            "188/188 [==============================] - 13s 71ms/step - loss: 0.7646 - accuracy: 0.7325 - val_loss: 0.8372 - val_accuracy: 0.7033\n",
            "Epoch 24/50\n",
            "188/188 [==============================] - 13s 71ms/step - loss: 0.7768 - accuracy: 0.7259 - val_loss: 0.8283 - val_accuracy: 0.7080\n",
            "Epoch 25/50\n",
            "188/188 [==============================] - 13s 72ms/step - loss: 0.7425 - accuracy: 0.7392 - val_loss: 0.8329 - val_accuracy: 0.7113\n",
            "Epoch 26/50\n",
            "188/188 [==============================] - 15s 82ms/step - loss: 0.7265 - accuracy: 0.7384 - val_loss: 0.8182 - val_accuracy: 0.7307\n",
            "Epoch 27/50\n",
            "188/188 [==============================] - 13s 71ms/step - loss: 0.7095 - accuracy: 0.7554 - val_loss: 0.8112 - val_accuracy: 0.7173\n",
            "Epoch 28/50\n",
            "188/188 [==============================] - 13s 71ms/step - loss: 0.6892 - accuracy: 0.7607 - val_loss: 0.8128 - val_accuracy: 0.7213\n",
            "Epoch 29/50\n",
            "188/188 [==============================] - 13s 71ms/step - loss: 0.6790 - accuracy: 0.7644 - val_loss: 0.8289 - val_accuracy: 0.7180\n",
            "Epoch 30/50\n",
            "188/188 [==============================] - 13s 72ms/step - loss: 0.6669 - accuracy: 0.7665 - val_loss: 0.8076 - val_accuracy: 0.7240\n",
            "Epoch 31/50\n",
            "188/188 [==============================] - 13s 72ms/step - loss: 0.6590 - accuracy: 0.7660 - val_loss: 0.8049 - val_accuracy: 0.7233\n",
            "Epoch 32/50\n",
            "188/188 [==============================] - 13s 71ms/step - loss: 0.6338 - accuracy: 0.7827 - val_loss: 0.7969 - val_accuracy: 0.7240\n",
            "Epoch 33/50\n",
            "188/188 [==============================] - 14s 76ms/step - loss: 0.6255 - accuracy: 0.7834 - val_loss: 0.7936 - val_accuracy: 0.7247\n",
            "Epoch 34/50\n",
            "188/188 [==============================] - 17s 89ms/step - loss: 0.6062 - accuracy: 0.7864 - val_loss: 0.7837 - val_accuracy: 0.7233\n",
            "Epoch 35/50\n",
            "188/188 [==============================] - 13s 71ms/step - loss: 0.6099 - accuracy: 0.7842 - val_loss: 0.7924 - val_accuracy: 0.7333\n",
            "Epoch 36/50\n",
            "188/188 [==============================] - 13s 72ms/step - loss: 0.5875 - accuracy: 0.7946 - val_loss: 0.7879 - val_accuracy: 0.7320\n",
            "Epoch 37/50\n",
            "188/188 [==============================] - 13s 72ms/step - loss: 0.5947 - accuracy: 0.7912 - val_loss: 0.7718 - val_accuracy: 0.7280\n",
            "Epoch 38/50\n",
            "188/188 [==============================] - 13s 72ms/step - loss: 0.5628 - accuracy: 0.8026 - val_loss: 0.7814 - val_accuracy: 0.7433\n",
            "Epoch 39/50\n",
            "188/188 [==============================] - 14s 72ms/step - loss: 0.5660 - accuracy: 0.8019 - val_loss: 0.7832 - val_accuracy: 0.7353\n",
            "Epoch 40/50\n",
            "188/188 [==============================] - 13s 72ms/step - loss: 0.5509 - accuracy: 0.8137 - val_loss: 0.7886 - val_accuracy: 0.7380\n",
            "Epoch 41/50\n",
            "188/188 [==============================] - 13s 71ms/step - loss: 0.5361 - accuracy: 0.8116 - val_loss: 0.7689 - val_accuracy: 0.7433\n",
            "Epoch 42/50\n",
            "188/188 [==============================] - 13s 72ms/step - loss: 0.5261 - accuracy: 0.8192 - val_loss: 0.7802 - val_accuracy: 0.7320\n",
            "Epoch 43/50\n",
            "188/188 [==============================] - 14s 73ms/step - loss: 0.5233 - accuracy: 0.8174 - val_loss: 0.7682 - val_accuracy: 0.7433\n",
            "Epoch 44/50\n",
            "188/188 [==============================] - 15s 80ms/step - loss: 0.5018 - accuracy: 0.8267 - val_loss: 0.7584 - val_accuracy: 0.7580\n",
            "Epoch 45/50\n",
            "188/188 [==============================] - 14s 75ms/step - loss: 0.4986 - accuracy: 0.8239 - val_loss: 0.7854 - val_accuracy: 0.7433\n",
            "Epoch 46/50\n",
            "188/188 [==============================] - 14s 73ms/step - loss: 0.4792 - accuracy: 0.8364 - val_loss: 0.7645 - val_accuracy: 0.7487\n",
            "Epoch 47/50\n",
            "188/188 [==============================] - 14s 72ms/step - loss: 0.4698 - accuracy: 0.8404 - val_loss: 0.7701 - val_accuracy: 0.7427\n",
            "Epoch 48/50\n",
            "188/188 [==============================] - 14s 72ms/step - loss: 0.4734 - accuracy: 0.8324 - val_loss: 0.7801 - val_accuracy: 0.7480\n",
            "Epoch 49/50\n",
            "188/188 [==============================] - 14s 72ms/step - loss: 0.4722 - accuracy: 0.8411 - val_loss: 0.7602 - val_accuracy: 0.7487\n",
            "Epoch 50/50\n",
            "188/188 [==============================] - 13s 72ms/step - loss: 0.4553 - accuracy: 0.8448 - val_loss: 0.7843 - val_accuracy: 0.7353\n"
          ]
        }
      ]
    },
    {
      "cell_type": "code",
      "source": [
        "# plot accuracy and error as a function of the epochs\n",
        "\n",
        "def plot_history(history):\n",
        "\n",
        "    fig, axs = plt.subplots(2)\n",
        "\n",
        "    # create accuracy sublpot\n",
        "    axs[0].plot(history.history[\"accuracy\"], label=\"train accuracy\")\n",
        "    axs[0].plot(history.history[\"val_accuracy\"], label=\"test accuracy\")\n",
        "    axs[0].set_ylabel(\"Accuracy\")\n",
        "    axs[0].legend(loc=\"lower right\")\n",
        "    axs[0].set_title(\"Accuracy eval\")\n",
        "\n",
        "    # create error sublpot\n",
        "    axs[1].plot(history.history[\"loss\"], label=\"train error\")\n",
        "    axs[1].plot(history.history[\"val_loss\"], label=\"test error\")\n",
        "    axs[1].set_ylabel(\"Error\")\n",
        "    axs[1].set_xlabel(\"Epoch\")\n",
        "    axs[1].legend(loc=\"upper right\")\n",
        "    axs[1].set_title(\"Error eval\")\n",
        "    \n",
        "    plt.show()\n",
        "\n",
        "plot_history(history)"
      ],
      "metadata": {
        "colab": {
          "base_uri": "https://localhost:8080/",
          "height": 295
        },
        "id": "PU8hbPB7ogcu",
        "outputId": "6bbd1a22-4bb1-48a8-bcd0-fb81735566b8"
      },
      "execution_count": 10,
      "outputs": [
        {
          "output_type": "display_data",
          "data": {
            "text/plain": [
              "<Figure size 432x288 with 2 Axes>"
            ],
            "image/png": "[encoded data removed]"
          },
          "metadata": {
            "needs_background": "light"
          }
        }
      ]
    },
    {
      "cell_type": "code",
      "source": [
        "# evaluate model on Test Set\n",
        "test_loss, test_acc = model_cnn.evaluate(X_test, y_test, verbose=2)\n",
        "print('\\nTest accuracy:', test_acc)"
      ],
      "metadata": {
        "id": "Z335NKNF1TfO",
        "colab": {
          "base_uri": "https://localhost:8080/"
        },
        "outputId": "52f3a253-0cf4-461f-edae-a5b96ce698e9"
      },
      "execution_count": 11,
      "outputs": [
        {
          "output_type": "stream",
          "name": "stdout",
          "text": [
            "79/79 - 1s - loss: 0.7994 - accuracy: 0.7343 - 1s/epoch - 15ms/step\n",
            "\n",
            "Test accuracy: 0.7342936992645264\n"
          ]
        }
      ]
    },
    {
      "cell_type": "code",
      "source": [
        "# Es hora de guardar nuestro modelo de Red CNN:\n",
        "model_cnn.save(\"/content/drive/My Drive/PAD/Detector_Generos_20_CNN\")\n",
        "model_cnn.save(\"/content/drive/My Drive/PAD/Detector_Generos_20_CNN.h5\")\n"
      ],
      "metadata": {
        "id": "9DEF6Sj_2kmw",
        "colab": {
          "base_uri": "https://localhost:8080/"
        },
        "outputId": "5c19f5fe-1d06-4a08-fec8-5fc6a2e3df20"
      },
      "execution_count": 12,
      "outputs": [
        {
          "output_type": "stream",
          "name": "stderr",
          "text": [
            "WARNING:absl:Found untraced functions such as _jit_compiled_convolution_op, _jit_compiled_convolution_op, _jit_compiled_convolution_op while saving (showing 3 of 3). These functions will not be directly callable after loading.\n"
          ]
        }
      ]
    },
    {
      "cell_type": "markdown",
      "source": [
        "## Test de Clasificacion:\n",
        "\n"
      ],
      "metadata": {
        "id": "y6XW55j9XSua"
      }
    },
    {
      "cell_type": "code",
      "source": [
        "# pick a sample to predict from the test set\n",
        "X_to_predict = X_test[200]\n",
        "y_to_predict = y_test[200]\n",
        "\n",
        "print(\"Real Genre:\", y_to_predict)\n",
        "\n",
        "# add a dimension to input data for sample - model.predict() expects a 4d array in this case\n",
        "X_to_predict = X_to_predict[np.newaxis, ...] # array shape (1, 130, 13, 1)\n",
        "X_to_predict.shape\n",
        "# perform prediction\n",
        "prediction = model_cnn.predict(X_to_predict)"
      ],
      "metadata": {
        "colab": {
          "base_uri": "https://localhost:8080/"
        },
        "id": "kKyo53OQW-89",
        "outputId": "dbeb4d74-087d-4aa4-8713-2252aefdfbf0"
      },
      "execution_count": 13,
      "outputs": [
        {
          "output_type": "stream",
          "name": "stdout",
          "text": [
            "Real Genre: 5\n",
            "1/1 [==============================] - 0s 132ms/step\n"
          ]
        }
      ]
    },
    {
      "cell_type": "code",
      "source": [
        "# get index with max value\n",
        "predicted_index = np.argmax(prediction, axis=1)\n",
        "\n",
        "print(\"Predicted Genre:\", int(predicted_index))"
      ],
      "metadata": {
        "colab": {
          "base_uri": "https://localhost:8080/"
        },
        "id": "z18rlq7Ve0d_",
        "outputId": "94e75a78-d27e-46ff-d690-430a0d52696d"
      },
      "execution_count": 14,
      "outputs": [
        {
          "output_type": "stream",
          "name": "stdout",
          "text": [
            "Predicted Genre: 5\n"
          ]
        }
      ]
    },
    {
      "cell_type": "code",
      "source": [
        "# pick a sample to predict from the test set\n",
        "X_to_predict = X_test[220]\n",
        "y_to_predict = y_test[220]\n",
        "\n",
        "print(\"Real Genre:\", y_to_predict)\n",
        "\n",
        "X_to_predict = X_to_predict[np.newaxis, ...]\n",
        "\n",
        "prediction = model_cnn.predict(X_to_predict)\n",
        "\n",
        "# get index with max value\n",
        "predicted_index = np.argmax(prediction, axis=1)\n",
        "\n",
        "print(\"Predicted Genre:\", int(predicted_index))"
      ],
      "metadata": {
        "colab": {
          "base_uri": "https://localhost:8080/"
        },
        "id": "xSYSyNJcfJwU",
        "outputId": "89d8a891-1a65-4554-f572-654c719e6548"
      },
      "execution_count": 15,
      "outputs": [
        {
          "output_type": "stream",
          "name": "stdout",
          "text": [
            "Real Genre: 9\n",
            "1/1 [==============================] - 0s 18ms/step\n",
            "Predicted Genre: 9\n"
          ]
        }
      ]
    },
    {
      "cell_type": "code",
      "source": [
        "# Opening JSON file\n",
        "f = open(\"/content/drive/My Drive/PAD/data_10.json\")\n",
        "  \n",
        "# returns JSON object as \n",
        "# a dictionary\n",
        "data = json.load(f)\n",
        "  \n",
        "# Iterating through the json\n",
        "# list\n",
        "for i in data['mapping']:\n",
        "    print(i)\n",
        "  \n",
        "# Closing file\n",
        "f.close()"
      ],
      "metadata": {
        "colab": {
          "base_uri": "https://localhost:8080/"
        },
        "id": "2GeeHMI0fbH4",
        "outputId": "1bbbd845-1bb0-4f56-ac3a-748646239bb1"
      },
      "execution_count": 49,
      "outputs": [
        {
          "output_type": "stream",
          "name": "stdout",
          "text": [
            "rock\n",
            "reggae\n",
            "pop\n",
            "metal\n",
            "jazz\n",
            "hiphop\n",
            "disco\n",
            "country\n",
            "classical\n",
            "blues\n"
          ]
        }
      ]
    },
    {
      "cell_type": "code",
      "source": [
        "# Hacemos una preba con 10 predicciones para testear la precicion de nuestro modelo:\n",
        "for n in range(10):\n",
        "\n",
        "  i = random.randint(0,len(X_test))\n",
        "  # pick a sample to predict from the test set\n",
        "  X_to_predict = X_test[i]\n",
        "  y_to_predict = y_test[i]\n",
        "\n",
        "  print(\"\\nReal Genre:\", y_to_predict)\n",
        "\n",
        "  X_to_predict = X_to_predict[np.newaxis, ...]\n",
        "\n",
        "  prediction = model_cnn.predict(X_to_predict)\n",
        "\n",
        "  # get index with max value\n",
        "  predicted_index = np.argmax(prediction, axis=1)\n",
        "\n",
        "  print(\"Predicted Genre:\", int(predicted_index))\n"
      ],
      "metadata": {
        "colab": {
          "base_uri": "https://localhost:8080/"
        },
        "id": "JbDXaanvfyXL",
        "outputId": "a6c72200-04ca-4b56-ae81-8f065d696419"
      },
      "execution_count": 17,
      "outputs": [
        {
          "output_type": "stream",
          "name": "stdout",
          "text": [
            "\n",
            "Real Genre: 1\n",
            "1/1 [==============================] - 0s 19ms/step\n",
            "Predicted Genre: 1\n",
            "\n",
            "Real Genre: 2\n",
            "1/1 [==============================] - 0s 19ms/step\n",
            "Predicted Genre: 2\n",
            "\n",
            "Real Genre: 0\n",
            "1/1 [==============================] - 0s 21ms/step\n",
            "Predicted Genre: 0\n",
            "\n",
            "Real Genre: 1\n",
            "1/1 [==============================] - 0s 18ms/step\n",
            "Predicted Genre: 1\n",
            "\n",
            "Real Genre: 0\n",
            "1/1 [==============================] - 0s 20ms/step\n",
            "Predicted Genre: 9\n",
            "\n",
            "Real Genre: 4\n",
            "1/1 [==============================] - 0s 18ms/step\n",
            "Predicted Genre: 4\n",
            "\n",
            "Real Genre: 7\n",
            "1/1 [==============================] - 0s 19ms/step\n",
            "Predicted Genre: 0\n",
            "\n",
            "Real Genre: 6\n",
            "1/1 [==============================] - 0s 20ms/step\n",
            "Predicted Genre: 6\n",
            "\n",
            "Real Genre: 6\n",
            "1/1 [==============================] - 0s 22ms/step\n",
            "Predicted Genre: 1\n",
            "\n",
            "Real Genre: 2\n",
            "1/1 [==============================] - 0s 18ms/step\n",
            "Predicted Genre: 7\n"
          ]
        }
      ]
    },
    {
      "cell_type": "code",
      "source": [
        "# Creamos el diccionario de para nuetros 10 generos musicales, y de esta manera saber que genero reperesenta cada numero.\n",
        "genero_dict = {0:\"Rock\",1:\"Reggae\",2:\"Pop\",3:\"Metal\",4:\"Jazz\",5:\"Hiphop\",6:\"Disco\",7:\"Country\",8:\"Classical\",9:\"Blues\"}\n"
      ],
      "metadata": {
        "id": "YSQJTOvdjlDU"
      },
      "execution_count": 51,
      "outputs": []
    },
    {
      "cell_type": "code",
      "source": [
        "# Audio files pre-processing\n",
        "def procesar_cancion(audio_file, track_duration):\n",
        "\n",
        "  SAMPLE_RATE = 22050\n",
        "  NUM_MFCC = 13\n",
        "  N_FTT=2048\n",
        "  HOP_LENGTH=512\n",
        "  TRACK_DURATION = track_duration # measured in seconds\n",
        "  SAMPLES_PER_TRACK = SAMPLE_RATE * TRACK_DURATION\n",
        "  NUM_SEGMENTS = 10\n",
        "\n",
        "  samples_per_segment = int(SAMPLES_PER_TRACK / NUM_SEGMENTS)\n",
        "  num_mfcc_vectors_per_segment = math.ceil(samples_per_segment / HOP_LENGTH)\n",
        "\n",
        "  signal, sample_rate = librosa.load(audio_file, sr=SAMPLE_RATE)\n",
        "  \n",
        "  for d in range(10):\n",
        "\n",
        "    # calculate start and finish sample for current segment\n",
        "    start = samples_per_segment * d\n",
        "    finish = start + samples_per_segment\n",
        "\n",
        "    # extract mfcc\n",
        "    mfcc = librosa.feature.mfcc(signal[start:finish], sample_rate, n_mfcc=NUM_MFCC, n_fft=N_FTT, hop_length=HOP_LENGTH)\n",
        "    mfcc = mfcc.T\n",
        "\n",
        "    return mfcc"
      ],
      "metadata": {
        "id": "bDVVhlfs30ng"
      },
      "execution_count": 52,
      "outputs": []
    },
    {
      "cell_type": "code",
      "source": [
        "nueva_cancion_pred_01 = procesar_cancion(\"/content/drive/My Drive/PAD/07.wav\", 30)"
      ],
      "metadata": {
        "id": "x-UnZfMp4f1Y"
      },
      "execution_count": 53,
      "outputs": []
    },
    {
      "cell_type": "code",
      "source": [
        "X_to_predict_01 = nueva_cancion_pred_01[np.newaxis, ..., np.newaxis]\n",
        "X_to_predict_01.shape"
      ],
      "metadata": {
        "id": "Res7pf4Sshvz",
        "colab": {
          "base_uri": "https://localhost:8080/"
        },
        "outputId": "d4e50d89-ac36-481d-a5f7-1a5bee913e03"
      },
      "execution_count": 54,
      "outputs": [
        {
          "output_type": "execute_result",
          "data": {
            "text/plain": [
              "(1, 130, 13, 1)"
            ]
          },
          "metadata": {},
          "execution_count": 54
        }
      ]
    },
    {
      "cell_type": "code",
      "source": [
        "type(nueva_cancion_pred_01)\n",
        "nueva_cancion_pred_01.shape\n"
      ],
      "metadata": {
        "id": "1lCxCtqR55H5",
        "colab": {
          "base_uri": "https://localhost:8080/"
        },
        "outputId": "69f4abda-6dd8-46f4-9b0a-b60c2031ff1e"
      },
      "execution_count": 55,
      "outputs": [
        {
          "output_type": "execute_result",
          "data": {
            "text/plain": [
              "(130, 13)"
            ]
          },
          "metadata": {},
          "execution_count": 55
        }
      ]
    },
    {
      "cell_type": "code",
      "source": [
        "prediction = model_cnn.predict(X_to_predict_01)\n",
        "\n",
        "# get index with max value\n",
        "predicted_index = np.argmax(prediction, axis=1)\n",
        "\n",
        "print(\"El género de su canción es:\", genero_dict[int(predicted_index)])"
      ],
      "metadata": {
        "id": "1wOp6fJU6ZkS",
        "colab": {
          "base_uri": "https://localhost:8080/"
        },
        "outputId": "f233db04-d016-4807-fc15-69779658ed71"
      },
      "execution_count": 56,
      "outputs": [
        {
          "output_type": "stream",
          "name": "stdout",
          "text": [
            "1/1 [==============================] - 0s 25ms/step\n",
            "El género de su canción es: Metal\n"
          ]
        }
      ]
    },
    {
      "cell_type": "code",
      "source": [
        "nueva_cancion_pred02 = procesar_cancion(\"/content/drive/My Drive/PAD/Billie.wav\",30)"
      ],
      "metadata": {
        "id": "GpdVm6PO6op4"
      },
      "execution_count": 73,
      "outputs": []
    },
    {
      "cell_type": "code",
      "source": [
        "X_predict02 = nueva_cancion_pred02[np.newaxis, ..., np.newaxis]\n",
        "\n",
        "##\n",
        "prediction = model_cnn.predict(X_predict02)\n",
        "\n",
        "# get index with max value\n",
        "predicted_index = np.argmax(prediction, axis=1)\n",
        "\n",
        "print(\"El género de su canción es:\", genero_dict [int(predicted_index)])\n"
      ],
      "metadata": {
        "id": "89sonFN7vE9S",
        "colab": {
          "base_uri": "https://localhost:8080/"
        },
        "outputId": "c6bb55dc-d701-4d3d-ff2e-a81935b4af6d"
      },
      "execution_count": 74,
      "outputs": [
        {
          "output_type": "stream",
          "name": "stdout",
          "text": [
            "1/1 [==============================] - 0s 19ms/step\n",
            "El género de su canción es: Rock\n"
          ]
        }
      ]
    },
    {
      "cell_type": "code",
      "source": [
        "nueva_cancion_pred03 = procesar_cancion(\"/content/drive/My Drive/PAD/Pupilas_Lejanas.wav\",30)\n",
        "X_predict03 = nueva_cancion_pred03[np.newaxis, ..., np.newaxis]\n",
        "\n",
        "##\n",
        "prediction = model_cnn.predict(X_predict03)\n",
        "\n",
        "# get index with max value\n",
        "predicted_index = np.argmax(prediction, axis=1)\n",
        "\n",
        "print(\"El género de su canción es:\", genero_dict [int(predicted_index)])\n"
      ],
      "metadata": {
        "id": "GOtiW7OtyK2z",
        "colab": {
          "base_uri": "https://localhost:8080/"
        },
        "outputId": "4a626792-442f-4eb5-969a-9b7fe2df5dd6"
      },
      "execution_count": 71,
      "outputs": [
        {
          "output_type": "stream",
          "name": "stdout",
          "text": [
            "1/1 [==============================] - 0s 25ms/step\n",
            "El género de su canción es: Pop\n"
          ]
        }
      ]
    },
    {
      "cell_type": "code",
      "source": [
        "nueva_cancion_pred04 = procesar_cancion(\"/content/drive/My Drive/PAD/Stylo.flac\",30)\n",
        "X_predict04 = nueva_cancion_pred04[np.newaxis, ..., np.newaxis]\n",
        "\n",
        "##\n",
        "prediction = model_cnn.predict(X_predict04)\n",
        "\n",
        "# get index with max value\n",
        "predicted_index = np.argmax(prediction, axis=1)\n",
        "\n",
        "print(\"El género de su canción es:\", genero_dict [int(predicted_index)])\n"
      ],
      "metadata": {
        "colab": {
          "base_uri": "https://localhost:8080/"
        },
        "id": "TLd5IS1fA8o5",
        "outputId": "3fb83822-cd61-4795-a721-badfc7bccea4"
      },
      "execution_count": 72,
      "outputs": [
        {
          "output_type": "stream",
          "name": "stdout",
          "text": [
            "1/1 [==============================] - 0s 26ms/step\n",
            "El género de su canción es: Reggae\n"
          ]
        }
      ]
    },
    {
      "cell_type": "code",
      "source": [],
      "metadata": {
        "id": "59McYt8RByLC"
      },
      "execution_count": null,
      "outputs": []
    }
  ]
}